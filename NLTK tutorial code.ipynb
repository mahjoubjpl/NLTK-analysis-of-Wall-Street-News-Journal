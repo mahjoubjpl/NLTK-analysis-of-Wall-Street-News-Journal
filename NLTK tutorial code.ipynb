{
 "cells": [
  {
   "cell_type": "code",
   "execution_count": 1,
   "metadata": {
    "collapsed": true
   },
   "outputs": [],
   "source": [
    "import nltk"
   ]
  },
  {
   "cell_type": "code",
   "execution_count": null,
   "metadata": {
    "collapsed": true
   },
   "outputs": [],
   "source": [
    "nltk.download()"
   ]
  },
  {
   "cell_type": "code",
   "execution_count": 94,
   "metadata": {
    "collapsed": false
   },
   "outputs": [],
   "source": [
    "paragraph=\"\"\"The U.S., claiming some success in its trade diplomacy, removed South Korea, Taiwan and Saudi Arabia from a list of countries it is closely watching for allegedly failing to honor U.S. patents, copyrights and other intellectual-property rights. \n",
    "However, five other countries -- China, Thailand, India, Brazil and Mexico -- will remain on that so-called priority watch list as a result of an interim review, U.S. Trade Representative Carla Hills announced.\n",
    "Under the new U.S. trade law, those countries could face accelerated unfair-trade investigations and stiff trade sanctions if they don't improve their protection of intellectual property by next spring. \n",
    "Mrs. Hills said many of the 25 countries that she placed under varying degrees of scrutiny have made \"genuine progress\" on this touchy issue.\n",
    "She said there is \"growing realization\" around the world that denial of intellectual-property rights harms all trading nations, and particularly the \"creativity and inventiveness of an {offending} country's own citizens.\" \n",
    "U.S. trade negotiators argue that countries with inadequate protections for intellectual-property rights could be hurting themselves by discouraging their own scientists and authors and by deterring U.S. high-technology firms from investing or marketing their best products there. \n",
    "Mrs. Hills lauded South Korea for creating an intellectual-property task force and special enforcement teams of police officers and prosecutors trained to pursue movie and book pirates.\n",
    "Seoul also has instituted effective search-and-seizure procedures to aid these teams, she said. \n",
    "Taiwan has improved its standing with the U.S. by initialing a bilateral copyright agreement, amending its trademark law and introducing legislation to protect foreign movie producers from unauthorized showings of their films.\n",
    "That measure could compel Taipei's growing number of small video-viewing parlors to pay movie producers for showing their films. \n",
    "Saudi Arabia, for its part, has vowed to enact a copyright law compatible with international standards and to apply the law to computer software as well as to literary works, Mrs. Hills said. \n",
    "These three countries aren't completely off the hook, though.\n",
    "They will remain on a lower-priority list that includes 17 other countries.\n",
    "Those countries -- including Japan, Italy, Canada, Greece and Spain -- are still of some concern to the U.S. but are deemed to pose less-serious problems for American patent and copyright owners than those on the \"priority\" list. \n",
    "Gary Hoffman, a Washington lawyer specializing in intellectual-property cases, said the threat of U.S. retaliation, combined with a growing recognition that protecting intellectual property is in a country's own interest, prompted the improvements made by South Korea, Taiwan and Saudi Arabia. \"What this tells us is that U.S. trade law is working,\" he said.\n",
    "He said Mexico could be one of the next countries to be removed from the priority list because of its efforts to craft a new patent law. \n",
    "Mrs. Hills said that the U.S. is still concerned about \"disturbing developments in Turkey and continuing slow progress in Malaysia.\" She didn't elaborate, although earlier U.S. trade reports have complained of videocassette piracy in Malaysia and disregard for U.S. pharmaceutical patents in Turkey. \n",
    "The 1988 trade act requires Mrs. Hills to issue another review of the performance of these countries by April 30.\n",
    "So far, Mrs. Hills hasn't deemed any cases bad enough to merit an accelerated investigation under the so-called special 301 provision of the act.\"\"\""
   ]
  },
  {
   "cell_type": "code",
   "execution_count": 95,
   "metadata": {
    "collapsed": false
   },
   "outputs": [
    {
     "name": "stdout",
     "output_type": "stream",
     "text": [
      "The U.S., claiming some success in its trade diplomacy, removed South Korea, Taiwan and Saudi Arabia from a list of countries it is closely watching for allegedly failing to honor U.S. patents, copyrights and other intellectual-property rights. \n",
      "However, five other countries -- China, Thailand, India, Brazil and Mexico -- will remain on that so-called priority watch list as a result of an interim review, U.S. Trade Representative Carla Hills announced.\n",
      "Under the new U.S. trade law, those countries could face accelerated unfair-trade investigations and stiff trade sanctions if they don't improve their protection of intellectual property by next spring. \n",
      "Mrs. Hills said many of the 25 countries that she placed under varying degrees of scrutiny have made \"genuine progress\" on this touchy issue.\n",
      "She said there is \"growing realization\" around the world that denial of intellectual-property rights harms all trading nations, and particularly the \"creativity and inventiveness of an {offending} country's own citizens.\" \n",
      "U.S. trade negotiators argue that countries with inadequate protections for intellectual-property rights could be hurting themselves by discouraging their own scientists and authors and by deterring U.S. high-technology firms from investing or marketing their best products there. \n",
      "Mrs. Hills lauded South Korea for creating an intellectual-property task force and special enforcement teams of police officers and prosecutors trained to pursue movie and book pirates.\n",
      "Seoul also has instituted effective search-and-seizure procedures to aid these teams, she said. \n",
      "Taiwan has improved its standing with the U.S. by initialing a bilateral copyright agreement, amending its trademark law and introducing legislation to protect foreign movie producers from unauthorized showings of their films.\n",
      "That measure could compel Taipei's growing number of small video-viewing parlors to pay movie producers for showing their films. \n",
      "Saudi Arabia, for its part, has vowed to enact a copyright law compatible with international standards and to apply the law to computer software as well as to literary works, Mrs. Hills said. \n",
      "These three countries aren't completely off the hook, though.\n",
      "They will remain on a lower-priority list that includes 17 other countries.\n",
      "Those countries -- including Japan, Italy, Canada, Greece and Spain -- are still of some concern to the U.S. but are deemed to pose less-serious problems for American patent and copyright owners than those on the \"priority\" list. \n",
      "Gary Hoffman, a Washington lawyer specializing in intellectual-property cases, said the threat of U.S. retaliation, combined with a growing recognition that protecting intellectual property is in a country's own interest, prompted the improvements made by South Korea, Taiwan and Saudi Arabia. \"What this tells us is that U.S. trade law is working,\" he said.\n",
      "He said Mexico could be one of the next countries to be removed from the priority list because of its efforts to craft a new patent law. \n",
      "Mrs. Hills said that the U.S. is still concerned about \"disturbing developments in Turkey and continuing slow progress in Malaysia.\" She didn't elaborate, although earlier U.S. trade reports have complained of videocassette piracy in Malaysia and disregard for U.S. pharmaceutical patents in Turkey. \n",
      "The 1988 trade act requires Mrs. Hills to issue another review of the performance of these countries by April 30.\n",
      "So far, Mrs. Hills hasn't deemed any cases bad enough to merit an accelerated investigation under the so-called special 301 provision of the act.\n"
     ]
    }
   ],
   "source": [
    "print(paragraph)"
   ]
  },
  {
   "cell_type": "markdown",
   "metadata": {},
   "source": [
    "# Tokenization "
   ]
  },
  {
   "cell_type": "markdown",
   "metadata": {},
   "source": [
    "Consists of a technique to split words, phrases and idioms."
   ]
  },
  {
   "cell_type": "code",
   "execution_count": 96,
   "metadata": {
    "collapsed": true
   },
   "outputs": [],
   "source": [
    "from nltk.tokenize import sent_tokenize"
   ]
  },
  {
   "cell_type": "code",
   "execution_count": 97,
   "metadata": {
    "collapsed": true
   },
   "outputs": [],
   "source": [
    "sentences=nltk.sent_tokenize(paragraph)"
   ]
  },
  {
   "cell_type": "code",
   "execution_count": 98,
   "metadata": {
    "collapsed": false
   },
   "outputs": [
    {
     "name": "stdout",
     "output_type": "stream",
     "text": [
      "['The U.S., claiming some success in its trade diplomacy, removed South Korea, Taiwan and Saudi Arabia from a list of countries it is closely watching for allegedly failing to honor U.S. patents, copyrights and other intellectual-property rights.', 'However, five other countries -- China, Thailand, India, Brazil and Mexico -- will remain on that so-called priority watch list as a result of an interim review, U.S. Trade Representative Carla Hills announced.', \"Under the new U.S. trade law, those countries could face accelerated unfair-trade investigations and stiff trade sanctions if they don't improve their protection of intellectual property by next spring.\", 'Mrs. Hills said many of the 25 countries that she placed under varying degrees of scrutiny have made \"genuine progress\" on this touchy issue.', 'She said there is \"growing realization\" around the world that denial of intellectual-property rights harms all trading nations, and particularly the \"creativity and inventiveness of an {offending} country\\'s own citizens.\"', 'U.S. trade negotiators argue that countries with inadequate protections for intellectual-property rights could be hurting themselves by discouraging their own scientists and authors and by deterring U.S. high-technology firms from investing or marketing their best products there.', 'Mrs. Hills lauded South Korea for creating an intellectual-property task force and special enforcement teams of police officers and prosecutors trained to pursue movie and book pirates.', 'Seoul also has instituted effective search-and-seizure procedures to aid these teams, she said.', 'Taiwan has improved its standing with the U.S. by initialing a bilateral copyright agreement, amending its trademark law and introducing legislation to protect foreign movie producers from unauthorized showings of their films.', \"That measure could compel Taipei's growing number of small video-viewing parlors to pay movie producers for showing their films.\", 'Saudi Arabia, for its part, has vowed to enact a copyright law compatible with international standards and to apply the law to computer software as well as to literary works, Mrs. Hills said.', \"These three countries aren't completely off the hook, though.\", 'They will remain on a lower-priority list that includes 17 other countries.', 'Those countries -- including Japan, Italy, Canada, Greece and Spain -- are still of some concern to the U.S. but are deemed to pose less-serious problems for American patent and copyright owners than those on the \"priority\" list.', \"Gary Hoffman, a Washington lawyer specializing in intellectual-property cases, said the threat of U.S. retaliation, combined with a growing recognition that protecting intellectual property is in a country's own interest, prompted the improvements made by South Korea, Taiwan and Saudi Arabia.\", '\"What this tells us is that U.S. trade law is working,\" he said.', 'He said Mexico could be one of the next countries to be removed from the priority list because of its efforts to craft a new patent law.', 'Mrs. Hills said that the U.S. is still concerned about \"disturbing developments in Turkey and continuing slow progress in Malaysia.\"', \"She didn't elaborate, although earlier U.S. trade reports have complained of videocassette piracy in Malaysia and disregard for U.S. pharmaceutical patents in Turkey.\", 'The 1988 trade act requires Mrs. Hills to issue another review of the performance of these countries by April 30.', \"So far, Mrs. Hills hasn't deemed any cases bad enough to merit an accelerated investigation under the so-called special 301 provision of the act.\"]\n"
     ]
    }
   ],
   "source": [
    "print(sentences)"
   ]
  },
  {
   "cell_type": "code",
   "execution_count": 99,
   "metadata": {
    "collapsed": false
   },
   "outputs": [
    {
     "data": {
      "text/plain": [
       "21"
      ]
     },
     "execution_count": 99,
     "metadata": {},
     "output_type": "execute_result"
    }
   ],
   "source": [
    "len(sentences)"
   ]
  },
  {
   "cell_type": "code",
   "execution_count": 36,
   "metadata": {
    "collapsed": true
   },
   "outputs": [],
   "source": [
    "words=nltk.word_tokenize(paragraph)"
   ]
  },
  {
   "cell_type": "code",
   "execution_count": 37,
   "metadata": {
    "collapsed": false
   },
   "outputs": [
    {
     "name": "stdout",
     "output_type": "stream",
     "text": [
      "['The', 'U.S.', ',', 'claiming', 'some', 'success', 'in', 'its', 'trade', 'diplomacy', ',', 'removed', 'South', 'Korea', ',', 'Taiwan', 'and', 'Saudi', 'Arabia', 'from', 'a', 'list', 'of', 'countries', 'it', 'is', 'closely', 'watching', 'for', 'allegedly', 'failing', 'to', 'honor', 'U.S.', 'patents', ',', 'copyrights', 'and', 'other', 'intellectual-property', 'rights', '.', 'However', ',', 'five', 'other', 'countries', '--', 'China', ',', 'Thailand', ',', 'India', ',', 'Brazil', 'and', 'Mexico', '--', 'will', 'remain', 'on', 'that', 'so-called', 'priority', 'watch', 'list', 'as', 'a', 'result', 'of', 'an', 'interim', 'review', ',', 'U.S.', 'Trade', 'Representative', 'Carla', 'Hills', 'announced', '.', 'Under', 'the', 'new', 'U.S.', 'trade', 'law', ',', 'those', 'countries', 'could', 'face', 'accelerated', 'unfair-trade', 'investigations', 'and', 'stiff', 'trade', 'sanctions', 'if', 'they', 'do', \"n't\", 'improve', 'their', 'protection', 'of', 'intellectual', 'property', 'by', 'next', 'spring', '.', 'Mrs.', 'Hills', 'said', 'many', 'of', 'the', '25', 'countries', 'that', 'she', 'placed', 'under', 'varying', 'degrees', 'of', 'scrutiny', 'have', 'made', '``', 'genuine', 'progress', \"''\", 'on', 'this', 'touchy', 'issue', '.', 'She', 'said', 'there', 'is', '``', 'growing', 'realization', \"''\", 'around', 'the', 'world', 'that', 'denial', 'of', 'intellectual-property', 'rights', 'harms', 'all', 'trading', 'nations', ',', 'and', 'particularly', 'the', '``', 'creativity', 'and', 'inventiveness', 'of', 'an', '{', 'offending', '}', 'country', \"'s\", 'own', 'citizens', '.', \"''\", 'U.S.', 'trade', 'negotiators', 'argue', 'that', 'countries', 'with', 'inadequate', 'protections', 'for', 'intellectual-property', 'rights', 'could', 'be', 'hurting', 'themselves', 'by', 'discouraging', 'their', 'own', 'scientists', 'and', 'authors', 'and', 'by', 'deterring', 'U.S.', 'high-technology', 'firms', 'from', 'investing', 'or', 'marketing', 'their', 'best', 'products', 'there', '.', 'Mrs.', 'Hills', 'lauded', 'South', 'Korea', 'for', 'creating', 'an', 'intellectual-property', 'task', 'force', 'and', 'special', 'enforcement', 'teams', 'of', 'police', 'officers', 'and', 'prosecutors', 'trained', 'to', 'pursue', 'movie', 'and', 'book', 'pirates', '.', 'Seoul', 'also', 'has', 'instituted', 'effective', 'search-and-seizure', 'procedures', 'to', 'aid', 'these', 'teams', ',', 'she', 'said', '.', 'Taiwan', 'has', 'improved', 'its', 'standing', 'with', 'the', 'U.S.', 'by', 'initialing', 'a', 'bilateral', 'copyright', 'agreement', ',', 'amending', 'its', 'trademark', 'law', 'and', 'introducing', 'legislation', 'to', 'protect', 'foreign', 'movie', 'producers', 'from', 'unauthorized', 'showings', 'of', 'their', 'films', '.', 'That', 'measure', 'could', 'compel', 'Taipei', \"'s\", 'growing', 'number', 'of', 'small', 'video-viewing', 'parlors', 'to', 'pay', 'movie', 'producers', 'for', 'showing', 'their', 'films', '.', 'Saudi', 'Arabia', ',', 'for', 'its', 'part', ',', 'has', 'vowed', 'to', 'enact', 'a', 'copyright', 'law', 'compatible', 'with', 'international', 'standards', 'and', 'to', 'apply', 'the', 'law', 'to', 'computer', 'software', 'as', 'well', 'as', 'to', 'literary', 'works', ',', 'Mrs.', 'Hills', 'said', '.', 'These', 'three', 'countries', 'are', \"n't\", 'completely', 'off', 'the', 'hook', ',', 'though', '.', 'They', 'will', 'remain', 'on', 'a', 'lower-priority', 'list', 'that', 'includes', '17', 'other', 'countries', '.', 'Those', 'countries', '--', 'including', 'Japan', ',', 'Italy', ',', 'Canada', ',', 'Greece', 'and', 'Spain', '--', 'are', 'still', 'of', 'some', 'concern', 'to', 'the', 'U.S.', 'but', 'are', 'deemed', 'to', 'pose', 'less-serious', 'problems', 'for', 'American', 'patent', 'and', 'copyright', 'owners', 'than', 'those', 'on', 'the', '``', 'priority', \"''\", 'list', '.', 'Gary', 'Hoffman', ',', 'a', 'Washington', 'lawyer', 'specializing', 'in', 'intellectual-property', 'cases', ',', 'said', 'the', 'threat', 'of', 'U.S.', 'retaliation', ',', 'combined', 'with', 'a', 'growing', 'recognition', 'that', 'protecting', 'intellectual', 'property', 'is', 'in', 'a', 'country', \"'s\", 'own', 'interest', ',', 'prompted', 'the', 'improvements', 'made', 'by', 'South', 'Korea', ',', 'Taiwan', 'and', 'Saudi', 'Arabia', '.', '``', 'What', 'this', 'tells', 'us', 'is', 'that', 'U.S.', 'trade', 'law', 'is', 'working', ',', \"''\", 'he', 'said', '.', 'He', 'said', 'Mexico', 'could', 'be', 'one', 'of', 'the', 'next', 'countries', 'to', 'be', 'removed', 'from', 'the', 'priority', 'list', 'because', 'of', 'its', 'efforts', 'to', 'craft', 'a', 'new', 'patent', 'law', '.', 'Mrs.', 'Hills', 'said', 'that', 'the', 'U.S.', 'is', 'still', 'concerned', 'about', '``', 'disturbing', 'developments', 'in', 'Turkey', 'and', 'continuing', 'slow', 'progress', 'in', 'Malaysia', '.', \"''\", 'She', 'did', \"n't\", 'elaborate', ',', 'although', 'earlier', 'U.S.', 'trade', 'reports', 'have', 'complained', 'of', 'videocassette', 'piracy', 'in', 'Malaysia', 'and', 'disregard', 'for', 'U.S.', 'pharmaceutical', 'patents', 'in', 'Turkey', '.', 'The', '1988', 'trade', 'act', 'requires', 'Mrs.', 'Hills', 'to', 'issue', 'another', 'review', 'of', 'the', 'performance', 'of', 'these', 'countries', 'by', 'April', '30', '.', 'So', 'far', ',', 'Mrs.', 'Hills', 'has', \"n't\", 'deemed', 'any', 'cases', 'bad', 'enough', 'to', 'merit', 'an', 'accelerated', 'investigation', 'under', 'the', 'so-called', 'special', '301', 'provision', 'of', 'the', 'act', '.']\n"
     ]
    }
   ],
   "source": [
    "print(words)"
   ]
  },
  {
   "cell_type": "code",
   "execution_count": 38,
   "metadata": {
    "collapsed": false
   },
   "outputs": [
    {
     "data": {
      "text/plain": [
       "611"
      ]
     },
     "execution_count": 38,
     "metadata": {},
     "output_type": "execute_result"
    }
   ],
   "source": [
    "len(words)"
   ]
  },
  {
   "cell_type": "markdown",
   "metadata": {},
   "source": [
    "# Text cleaning"
   ]
  },
  {
   "cell_type": "markdown",
   "metadata": {},
   "source": [
    "* convert every character to lowercase\n",
    "* Remove special characters\n",
    "* Remove common stop words (ex of, the, I, it, was, is ..)\n"
   ]
  },
  {
   "cell_type": "code",
   "execution_count": 39,
   "metadata": {
    "collapsed": false
   },
   "outputs": [],
   "source": [
    "from nltk.corpus import stopwords\n",
    "from nltk.tokenize import RegexpTokenizer\n"
   ]
  },
  {
   "cell_type": "code",
   "execution_count": 40,
   "metadata": {
    "collapsed": false
   },
   "outputs": [
    {
     "name": "stdout",
     "output_type": "stream",
     "text": [
      "The U S claiming some success in its trade diplomacy removed South Korea Taiwan and Saudi Arabia from a list of countries it is closely watching for allegedly failing to honor U S patents copyrights and other intellectual property rights However five other countries China Thailand India Brazil and Mexico will remain on that so called priority watch list as a result of an interim review U S Trade Representative Carla Hills announced Under the new U S trade law those countries could face accelerated unfair trade investigations and stiff trade sanctions if they don t improve their protection of intellectual property by next spring Mrs Hills said many of the 25 countries that she placed under varying degrees of scrutiny have made genuine progress on this touchy issue She said there is growing realization around the world that denial of intellectual property rights harms all trading nations and particularly the creativity and inventiveness of an offending country s own citizens U S trade negotiators argue that countries with inadequate protections for intellectual property rights could be hurting themselves by discouraging their own scientists and authors and by deterring U S high technology firms from investing or marketing their best products there Mrs Hills lauded South Korea for creating an intellectual property task force and special enforcement teams of police officers and prosecutors trained to pursue movie and book pirates Seoul also has instituted effective search and seizure procedures to aid these teams she said Taiwan has improved its standing with the U S by initialing a bilateral copyright agreement amending its trademark law and introducing legislation to protect foreign movie producers from unauthorized showings of their films That measure could compel Taipei s growing number of small video viewing parlors to pay movie producers for showing their films Saudi Arabia for its part has vowed to enact a copyright law compatible with international standards and to apply the law to computer software as well as to literary works Mrs Hills said These three countries aren t completely off the hook though They will remain on a lower priority list that includes 17 other countries Those countries including Japan Italy Canada Greece and Spain are still of some concern to the U S but are deemed to pose less serious problems for American patent and copyright owners than those on the priority list Gary Hoffman a Washington lawyer specializing in intellectual property cases said the threat of U S retaliation combined with a growing recognition that protecting intellectual property is in a country s own interest prompted the improvements made by South Korea Taiwan and Saudi Arabia What this tells us is that U S trade law is working he said He said Mexico could be one of the next countries to be removed from the priority list because of its efforts to craft a new patent law Mrs Hills said that the U S is still concerned about disturbing developments in Turkey and continuing slow progress in Malaysia She didn t elaborate although earlier U S trade reports have complained of videocassette piracy in Malaysia and disregard for U S pharmaceutical patents in Turkey The 1988 trade act requires Mrs Hills to issue another review of the performance of these countries by April 30 So far Mrs Hills hasn t deemed any cases bad enough to merit an accelerated investigation under the so called special 301 provision of the act\n"
     ]
    }
   ],
   "source": [
    "tokenizer = RegexpTokenizer(r'\\w+')\n",
    "paragraph_tokenized=tokenizer.tokenize(paragraph)\n",
    "paragraph=\" \".join(paragraph_tokenized)\n",
    "print(paragraph)"
   ]
  },
  {
   "cell_type": "code",
   "execution_count": 19,
   "metadata": {
    "collapsed": false
   },
   "outputs": [
    {
     "name": "stdout",
     "output_type": "stream",
     "text": [
      "['The U.S. , claiming success trade diplomacy , removed South Korea , Taiwan Saudi Arabia list countries closely watching allegedly failing honor U.S. patents , copyrights intellectual-property rights .', 'However , five countries -- China , Thailand , India , Brazil Mexico -- remain so-called priority watch list result interim review , U.S. Trade Representative Carla Hills announced .', \"Under new U.S. trade law , countries could face accelerated unfair-trade investigations stiff trade sanctions n't improve protection intellectual property next spring .\", 'Mrs. Hills said many 25 countries placed varying degrees scrutiny made `` genuine progress `` touchy issue .', \"She said `` growing realization `` around world denial intellectual-property rights harms trading nations , particularly `` creativity inventiveness { offending } country 's citizens . ``\", 'U.S. trade negotiators argue countries inadequate protections intellectual-property rights could hurting discouraging scientists authors deterring U.S. high-technology firms investing marketing best products .', 'Mrs. Hills lauded South Korea creating intellectual-property task force special enforcement teams police officers prosecutors trained pursue movie book pirates .', 'Seoul also instituted effective search-and-seizure procedures aid teams , said .', 'Taiwan improved standing U.S. initialing bilateral copyright agreement , amending trademark law introducing legislation protect foreign movie producers unauthorized showings films .', \"That measure could compel Taipei 's growing number small video-viewing parlors pay movie producers showing films .\", 'Saudi Arabia , part , vowed enact copyright law compatible international standards apply law computer software well literary works , Mrs. Hills said .', \"These three countries n't completely hook , though .\", 'They remain lower-priority list includes 17 countries .', 'Those countries -- including Japan , Italy , Canada , Greece Spain -- still concern U.S. deemed pose less-serious problems American patent copyright owners `` priority `` list .', \"Gary Hoffman , Washington lawyer specializing intellectual-property cases , said threat U.S. retaliation , combined growing recognition protecting intellectual property country 's interest , prompted improvements made South Korea , Taiwan Saudi Arabia .\", '`` What tells us U.S. trade law working , `` said .', 'He said Mexico could one next countries removed priority list efforts craft new patent law .', 'Mrs. Hills said U.S. still concerned `` disturbing developments Turkey continuing slow progress Malaysia . ``', \"She n't elaborate , although earlier U.S. trade reports complained videocassette piracy Malaysia disregard U.S. pharmaceutical patents Turkey .\", 'The 1988 trade act requires Mrs. Hills issue another review performance countries April 30 .', \"So far , Mrs. Hills n't deemed cases bad enough merit accelerated investigation so-called special 301 provision act .\"]\n"
     ]
    }
   ],
   "source": [
    "for i in range (len(sentences)):\n",
    "    words=nltk.word_tokenize(sentences[i])\n",
    "    newwords=[word for word in words if word not in stopwords.words('english')]\n",
    "    sentences[i]=' '.join(newwords)\n",
    "print(sentences)"
   ]
  },
  {
   "cell_type": "code",
   "execution_count": 20,
   "metadata": {
    "collapsed": false
   },
   "outputs": [
    {
     "data": {
      "text/plain": [
       "9"
      ]
     },
     "execution_count": 20,
     "metadata": {},
     "output_type": "execute_result"
    }
   ],
   "source": [
    "len('sentences')"
   ]
  },
  {
   "cell_type": "code",
   "execution_count": 11,
   "metadata": {
    "collapsed": true
   },
   "outputs": [],
   "source": [
    "import pandas as pd\n",
    "from sklearn.feature_extraction.text import CountVectorizer, TfidfVectorizer"
   ]
  },
  {
   "cell_type": "code",
   "execution_count": 63,
   "metadata": {
    "collapsed": false
   },
   "outputs": [],
   "source": [
    "import matplotlib.pyplot as plt\n",
    "%matplotlib inline"
   ]
  },
  {
   "cell_type": "code",
   "execution_count": 27,
   "metadata": {
    "collapsed": false
   },
   "outputs": [],
   "source": [
    "from wordcloud import WordCloud"
   ]
  },
  {
   "cell_type": "code",
   "execution_count": 41,
   "metadata": {
    "collapsed": false
   },
   "outputs": [
    {
     "data": {
      "text/plain": [
       "str"
      ]
     },
     "execution_count": 41,
     "metadata": {},
     "output_type": "execute_result"
    }
   ],
   "source": [
    "type(paragraph)"
   ]
  },
  {
   "cell_type": "code",
   "execution_count": 64,
   "metadata": {
    "collapsed": false
   },
   "outputs": [
    {
     "data": {
      "text/plain": [
       "<matplotlib.image.AxesImage at 0xc7eca10>"
      ]
     },
     "execution_count": 64,
     "metadata": {},
     "output_type": "execute_result"
    },
    {
     "data": {
      "image/png": "[encoded data removed]",
      "text/plain": [
       "<matplotlib.figure.Figure at 0xbc68530>"
      ]
     },
     "metadata": {},
     "output_type": "display_data"
    }
   ],
   "source": [
    "wc=WordCloud().generate(paragraph)\n",
    "plt.imshow(wc)"
   ]
  },
  {
   "cell_type": "code",
   "execution_count": 54,
   "metadata": {
    "collapsed": false
   },
   "outputs": [
    {
     "data": {
      "text/html": [
       "<div>\n",
       "<table border=\"1\" class=\"dataframe\">\n",
       "  <thead>\n",
       "    <tr style=\"text-align: right;\">\n",
       "      <th></th>\n",
       "      <th>17</th>\n",
       "      <th>1988</th>\n",
       "      <th>25</th>\n",
       "      <th>30</th>\n",
       "      <th>301</th>\n",
       "      <th>about</th>\n",
       "      <th>accelerated</th>\n",
       "      <th>act</th>\n",
       "      <th>agreement</th>\n",
       "      <th>aid</th>\n",
       "      <th>...</th>\n",
       "      <th>washington</th>\n",
       "      <th>watch</th>\n",
       "      <th>watching</th>\n",
       "      <th>well</th>\n",
       "      <th>what</th>\n",
       "      <th>will</th>\n",
       "      <th>with</th>\n",
       "      <th>working</th>\n",
       "      <th>works</th>\n",
       "      <th>world</th>\n",
       "    </tr>\n",
       "  </thead>\n",
       "  <tbody>\n",
       "    <tr>\n",
       "      <th>0</th>\n",
       "      <td>0</td>\n",
       "      <td>0</td>\n",
       "      <td>0</td>\n",
       "      <td>0</td>\n",
       "      <td>0</td>\n",
       "      <td>0</td>\n",
       "      <td>0</td>\n",
       "      <td>0</td>\n",
       "      <td>0</td>\n",
       "      <td>0</td>\n",
       "      <td>...</td>\n",
       "      <td>0</td>\n",
       "      <td>0</td>\n",
       "      <td>1</td>\n",
       "      <td>0</td>\n",
       "      <td>0</td>\n",
       "      <td>0</td>\n",
       "      <td>0</td>\n",
       "      <td>0</td>\n",
       "      <td>0</td>\n",
       "      <td>0</td>\n",
       "    </tr>\n",
       "    <tr>\n",
       "      <th>1</th>\n",
       "      <td>0</td>\n",
       "      <td>0</td>\n",
       "      <td>0</td>\n",
       "      <td>0</td>\n",
       "      <td>0</td>\n",
       "      <td>0</td>\n",
       "      <td>0</td>\n",
       "      <td>0</td>\n",
       "      <td>0</td>\n",
       "      <td>0</td>\n",
       "      <td>...</td>\n",
       "      <td>0</td>\n",
       "      <td>1</td>\n",
       "      <td>0</td>\n",
       "      <td>0</td>\n",
       "      <td>0</td>\n",
       "      <td>1</td>\n",
       "      <td>0</td>\n",
       "      <td>0</td>\n",
       "      <td>0</td>\n",
       "      <td>0</td>\n",
       "    </tr>\n",
       "    <tr>\n",
       "      <th>2</th>\n",
       "      <td>0</td>\n",
       "      <td>0</td>\n",
       "      <td>0</td>\n",
       "      <td>0</td>\n",
       "      <td>0</td>\n",
       "      <td>0</td>\n",
       "      <td>1</td>\n",
       "      <td>0</td>\n",
       "      <td>0</td>\n",
       "      <td>0</td>\n",
       "      <td>...</td>\n",
       "      <td>0</td>\n",
       "      <td>0</td>\n",
       "      <td>0</td>\n",
       "      <td>0</td>\n",
       "      <td>0</td>\n",
       "      <td>0</td>\n",
       "      <td>0</td>\n",
       "      <td>0</td>\n",
       "      <td>0</td>\n",
       "      <td>0</td>\n",
       "    </tr>\n",
       "    <tr>\n",
       "      <th>3</th>\n",
       "      <td>0</td>\n",
       "      <td>0</td>\n",
       "      <td>1</td>\n",
       "      <td>0</td>\n",
       "      <td>0</td>\n",
       "      <td>0</td>\n",
       "      <td>0</td>\n",
       "      <td>0</td>\n",
       "      <td>0</td>\n",
       "      <td>0</td>\n",
       "      <td>...</td>\n",
       "      <td>0</td>\n",
       "      <td>0</td>\n",
       "      <td>0</td>\n",
       "      <td>0</td>\n",
       "      <td>0</td>\n",
       "      <td>0</td>\n",
       "      <td>0</td>\n",
       "      <td>0</td>\n",
       "      <td>0</td>\n",
       "      <td>0</td>\n",
       "    </tr>\n",
       "    <tr>\n",
       "      <th>4</th>\n",
       "      <td>0</td>\n",
       "      <td>0</td>\n",
       "      <td>0</td>\n",
       "      <td>0</td>\n",
       "      <td>0</td>\n",
       "      <td>0</td>\n",
       "      <td>0</td>\n",
       "      <td>0</td>\n",
       "      <td>0</td>\n",
       "      <td>0</td>\n",
       "      <td>...</td>\n",
       "      <td>0</td>\n",
       "      <td>0</td>\n",
       "      <td>0</td>\n",
       "      <td>0</td>\n",
       "      <td>0</td>\n",
       "      <td>0</td>\n",
       "      <td>0</td>\n",
       "      <td>0</td>\n",
       "      <td>0</td>\n",
       "      <td>1</td>\n",
       "    </tr>\n",
       "    <tr>\n",
       "      <th>5</th>\n",
       "      <td>0</td>\n",
       "      <td>0</td>\n",
       "      <td>0</td>\n",
       "      <td>0</td>\n",
       "      <td>0</td>\n",
       "      <td>0</td>\n",
       "      <td>0</td>\n",
       "      <td>0</td>\n",
       "      <td>0</td>\n",
       "      <td>0</td>\n",
       "      <td>...</td>\n",
       "      <td>0</td>\n",
       "      <td>0</td>\n",
       "      <td>0</td>\n",
       "      <td>0</td>\n",
       "      <td>0</td>\n",
       "      <td>0</td>\n",
       "      <td>1</td>\n",
       "      <td>0</td>\n",
       "      <td>0</td>\n",
       "      <td>0</td>\n",
       "    </tr>\n",
       "    <tr>\n",
       "      <th>6</th>\n",
       "      <td>0</td>\n",
       "      <td>0</td>\n",
       "      <td>0</td>\n",
       "      <td>0</td>\n",
       "      <td>0</td>\n",
       "      <td>0</td>\n",
       "      <td>0</td>\n",
       "      <td>0</td>\n",
       "      <td>0</td>\n",
       "      <td>0</td>\n",
       "      <td>...</td>\n",
       "      <td>0</td>\n",
       "      <td>0</td>\n",
       "      <td>0</td>\n",
       "      <td>0</td>\n",
       "      <td>0</td>\n",
       "      <td>0</td>\n",
       "      <td>0</td>\n",
       "      <td>0</td>\n",
       "      <td>0</td>\n",
       "      <td>0</td>\n",
       "    </tr>\n",
       "    <tr>\n",
       "      <th>7</th>\n",
       "      <td>0</td>\n",
       "      <td>0</td>\n",
       "      <td>0</td>\n",
       "      <td>0</td>\n",
       "      <td>0</td>\n",
       "      <td>0</td>\n",
       "      <td>0</td>\n",
       "      <td>0</td>\n",
       "      <td>0</td>\n",
       "      <td>1</td>\n",
       "      <td>...</td>\n",
       "      <td>0</td>\n",
       "      <td>0</td>\n",
       "      <td>0</td>\n",
       "      <td>0</td>\n",
       "      <td>0</td>\n",
       "      <td>0</td>\n",
       "      <td>0</td>\n",
       "      <td>0</td>\n",
       "      <td>0</td>\n",
       "      <td>0</td>\n",
       "    </tr>\n",
       "    <tr>\n",
       "      <th>8</th>\n",
       "      <td>0</td>\n",
       "      <td>0</td>\n",
       "      <td>0</td>\n",
       "      <td>0</td>\n",
       "      <td>0</td>\n",
       "      <td>0</td>\n",
       "      <td>0</td>\n",
       "      <td>0</td>\n",
       "      <td>1</td>\n",
       "      <td>0</td>\n",
       "      <td>...</td>\n",
       "      <td>0</td>\n",
       "      <td>0</td>\n",
       "      <td>0</td>\n",
       "      <td>0</td>\n",
       "      <td>0</td>\n",
       "      <td>0</td>\n",
       "      <td>1</td>\n",
       "      <td>0</td>\n",
       "      <td>0</td>\n",
       "      <td>0</td>\n",
       "    </tr>\n",
       "    <tr>\n",
       "      <th>9</th>\n",
       "      <td>0</td>\n",
       "      <td>0</td>\n",
       "      <td>0</td>\n",
       "      <td>0</td>\n",
       "      <td>0</td>\n",
       "      <td>0</td>\n",
       "      <td>0</td>\n",
       "      <td>0</td>\n",
       "      <td>0</td>\n",
       "      <td>0</td>\n",
       "      <td>...</td>\n",
       "      <td>0</td>\n",
       "      <td>0</td>\n",
       "      <td>0</td>\n",
       "      <td>0</td>\n",
       "      <td>0</td>\n",
       "      <td>0</td>\n",
       "      <td>0</td>\n",
       "      <td>0</td>\n",
       "      <td>0</td>\n",
       "      <td>0</td>\n",
       "    </tr>\n",
       "    <tr>\n",
       "      <th>10</th>\n",
       "      <td>0</td>\n",
       "      <td>0</td>\n",
       "      <td>0</td>\n",
       "      <td>0</td>\n",
       "      <td>0</td>\n",
       "      <td>0</td>\n",
       "      <td>0</td>\n",
       "      <td>0</td>\n",
       "      <td>0</td>\n",
       "      <td>0</td>\n",
       "      <td>...</td>\n",
       "      <td>0</td>\n",
       "      <td>0</td>\n",
       "      <td>0</td>\n",
       "      <td>1</td>\n",
       "      <td>0</td>\n",
       "      <td>0</td>\n",
       "      <td>1</td>\n",
       "      <td>0</td>\n",
       "      <td>1</td>\n",
       "      <td>0</td>\n",
       "    </tr>\n",
       "    <tr>\n",
       "      <th>11</th>\n",
       "      <td>0</td>\n",
       "      <td>0</td>\n",
       "      <td>0</td>\n",
       "      <td>0</td>\n",
       "      <td>0</td>\n",
       "      <td>0</td>\n",
       "      <td>0</td>\n",
       "      <td>0</td>\n",
       "      <td>0</td>\n",
       "      <td>0</td>\n",
       "      <td>...</td>\n",
       "      <td>0</td>\n",
       "      <td>0</td>\n",
       "      <td>0</td>\n",
       "      <td>0</td>\n",
       "      <td>0</td>\n",
       "      <td>0</td>\n",
       "      <td>0</td>\n",
       "      <td>0</td>\n",
       "      <td>0</td>\n",
       "      <td>0</td>\n",
       "    </tr>\n",
       "    <tr>\n",
       "      <th>12</th>\n",
       "      <td>1</td>\n",
       "      <td>0</td>\n",
       "      <td>0</td>\n",
       "      <td>0</td>\n",
       "      <td>0</td>\n",
       "      <td>0</td>\n",
       "      <td>0</td>\n",
       "      <td>0</td>\n",
       "      <td>0</td>\n",
       "      <td>0</td>\n",
       "      <td>...</td>\n",
       "      <td>0</td>\n",
       "      <td>0</td>\n",
       "      <td>0</td>\n",
       "      <td>0</td>\n",
       "      <td>0</td>\n",
       "      <td>1</td>\n",
       "      <td>0</td>\n",
       "      <td>0</td>\n",
       "      <td>0</td>\n",
       "      <td>0</td>\n",
       "    </tr>\n",
       "    <tr>\n",
       "      <th>13</th>\n",
       "      <td>0</td>\n",
       "      <td>0</td>\n",
       "      <td>0</td>\n",
       "      <td>0</td>\n",
       "      <td>0</td>\n",
       "      <td>0</td>\n",
       "      <td>0</td>\n",
       "      <td>0</td>\n",
       "      <td>0</td>\n",
       "      <td>0</td>\n",
       "      <td>...</td>\n",
       "      <td>0</td>\n",
       "      <td>0</td>\n",
       "      <td>0</td>\n",
       "      <td>0</td>\n",
       "      <td>0</td>\n",
       "      <td>0</td>\n",
       "      <td>0</td>\n",
       "      <td>0</td>\n",
       "      <td>0</td>\n",
       "      <td>0</td>\n",
       "    </tr>\n",
       "    <tr>\n",
       "      <th>14</th>\n",
       "      <td>0</td>\n",
       "      <td>0</td>\n",
       "      <td>0</td>\n",
       "      <td>0</td>\n",
       "      <td>0</td>\n",
       "      <td>0</td>\n",
       "      <td>0</td>\n",
       "      <td>0</td>\n",
       "      <td>0</td>\n",
       "      <td>0</td>\n",
       "      <td>...</td>\n",
       "      <td>1</td>\n",
       "      <td>0</td>\n",
       "      <td>0</td>\n",
       "      <td>0</td>\n",
       "      <td>0</td>\n",
       "      <td>0</td>\n",
       "      <td>1</td>\n",
       "      <td>0</td>\n",
       "      <td>0</td>\n",
       "      <td>0</td>\n",
       "    </tr>\n",
       "    <tr>\n",
       "      <th>15</th>\n",
       "      <td>0</td>\n",
       "      <td>0</td>\n",
       "      <td>0</td>\n",
       "      <td>0</td>\n",
       "      <td>0</td>\n",
       "      <td>0</td>\n",
       "      <td>0</td>\n",
       "      <td>0</td>\n",
       "      <td>0</td>\n",
       "      <td>0</td>\n",
       "      <td>...</td>\n",
       "      <td>0</td>\n",
       "      <td>0</td>\n",
       "      <td>0</td>\n",
       "      <td>0</td>\n",
       "      <td>1</td>\n",
       "      <td>0</td>\n",
       "      <td>0</td>\n",
       "      <td>1</td>\n",
       "      <td>0</td>\n",
       "      <td>0</td>\n",
       "    </tr>\n",
       "    <tr>\n",
       "      <th>16</th>\n",
       "      <td>0</td>\n",
       "      <td>0</td>\n",
       "      <td>0</td>\n",
       "      <td>0</td>\n",
       "      <td>0</td>\n",
       "      <td>0</td>\n",
       "      <td>0</td>\n",
       "      <td>0</td>\n",
       "      <td>0</td>\n",
       "      <td>0</td>\n",
       "      <td>...</td>\n",
       "      <td>0</td>\n",
       "      <td>0</td>\n",
       "      <td>0</td>\n",
       "      <td>0</td>\n",
       "      <td>0</td>\n",
       "      <td>0</td>\n",
       "      <td>0</td>\n",
       "      <td>0</td>\n",
       "      <td>0</td>\n",
       "      <td>0</td>\n",
       "    </tr>\n",
       "    <tr>\n",
       "      <th>17</th>\n",
       "      <td>0</td>\n",
       "      <td>0</td>\n",
       "      <td>0</td>\n",
       "      <td>0</td>\n",
       "      <td>0</td>\n",
       "      <td>1</td>\n",
       "      <td>0</td>\n",
       "      <td>0</td>\n",
       "      <td>0</td>\n",
       "      <td>0</td>\n",
       "      <td>...</td>\n",
       "      <td>0</td>\n",
       "      <td>0</td>\n",
       "      <td>0</td>\n",
       "      <td>0</td>\n",
       "      <td>0</td>\n",
       "      <td>0</td>\n",
       "      <td>0</td>\n",
       "      <td>0</td>\n",
       "      <td>0</td>\n",
       "      <td>0</td>\n",
       "    </tr>\n",
       "    <tr>\n",
       "      <th>18</th>\n",
       "      <td>0</td>\n",
       "      <td>0</td>\n",
       "      <td>0</td>\n",
       "      <td>0</td>\n",
       "      <td>0</td>\n",
       "      <td>0</td>\n",
       "      <td>0</td>\n",
       "      <td>0</td>\n",
       "      <td>0</td>\n",
       "      <td>0</td>\n",
       "      <td>...</td>\n",
       "      <td>0</td>\n",
       "      <td>0</td>\n",
       "      <td>0</td>\n",
       "      <td>0</td>\n",
       "      <td>0</td>\n",
       "      <td>0</td>\n",
       "      <td>0</td>\n",
       "      <td>0</td>\n",
       "      <td>0</td>\n",
       "      <td>0</td>\n",
       "    </tr>\n",
       "    <tr>\n",
       "      <th>19</th>\n",
       "      <td>0</td>\n",
       "      <td>1</td>\n",
       "      <td>0</td>\n",
       "      <td>1</td>\n",
       "      <td>0</td>\n",
       "      <td>0</td>\n",
       "      <td>0</td>\n",
       "      <td>1</td>\n",
       "      <td>0</td>\n",
       "      <td>0</td>\n",
       "      <td>...</td>\n",
       "      <td>0</td>\n",
       "      <td>0</td>\n",
       "      <td>0</td>\n",
       "      <td>0</td>\n",
       "      <td>0</td>\n",
       "      <td>0</td>\n",
       "      <td>0</td>\n",
       "      <td>0</td>\n",
       "      <td>0</td>\n",
       "      <td>0</td>\n",
       "    </tr>\n",
       "    <tr>\n",
       "      <th>20</th>\n",
       "      <td>0</td>\n",
       "      <td>0</td>\n",
       "      <td>0</td>\n",
       "      <td>0</td>\n",
       "      <td>1</td>\n",
       "      <td>0</td>\n",
       "      <td>1</td>\n",
       "      <td>1</td>\n",
       "      <td>0</td>\n",
       "      <td>0</td>\n",
       "      <td>...</td>\n",
       "      <td>0</td>\n",
       "      <td>0</td>\n",
       "      <td>0</td>\n",
       "      <td>0</td>\n",
       "      <td>0</td>\n",
       "      <td>0</td>\n",
       "      <td>0</td>\n",
       "      <td>0</td>\n",
       "      <td>0</td>\n",
       "      <td>0</td>\n",
       "    </tr>\n",
       "  </tbody>\n",
       "</table>\n",
       "<p>21 rows × 279 columns</p>\n",
       "</div>"
      ],
      "text/plain": [
       "    17  1988  25  30  301  about  accelerated  act  agreement  aid  ...    \\\n",
       "0    0     0   0   0    0      0            0    0          0    0  ...     \n",
       "1    0     0   0   0    0      0            0    0          0    0  ...     \n",
       "2    0     0   0   0    0      0            1    0          0    0  ...     \n",
       "3    0     0   1   0    0      0            0    0          0    0  ...     \n",
       "4    0     0   0   0    0      0            0    0          0    0  ...     \n",
       "5    0     0   0   0    0      0            0    0          0    0  ...     \n",
       "6    0     0   0   0    0      0            0    0          0    0  ...     \n",
       "7    0     0   0   0    0      0            0    0          0    1  ...     \n",
       "8    0     0   0   0    0      0            0    0          1    0  ...     \n",
       "9    0     0   0   0    0      0            0    0          0    0  ...     \n",
       "10   0     0   0   0    0      0            0    0          0    0  ...     \n",
       "11   0     0   0   0    0      0            0    0          0    0  ...     \n",
       "12   1     0   0   0    0      0            0    0          0    0  ...     \n",
       "13   0     0   0   0    0      0            0    0          0    0  ...     \n",
       "14   0     0   0   0    0      0            0    0          0    0  ...     \n",
       "15   0     0   0   0    0      0            0    0          0    0  ...     \n",
       "16   0     0   0   0    0      0            0    0          0    0  ...     \n",
       "17   0     0   0   0    0      1            0    0          0    0  ...     \n",
       "18   0     0   0   0    0      0            0    0          0    0  ...     \n",
       "19   0     1   0   1    0      0            0    1          0    0  ...     \n",
       "20   0     0   0   0    1      0            1    1          0    0  ...     \n",
       "\n",
       "    washington  watch  watching  well  what  will  with  working  works  world  \n",
       "0            0      0         1     0     0     0     0        0      0      0  \n",
       "1            0      1         0     0     0     1     0        0      0      0  \n",
       "2            0      0         0     0     0     0     0        0      0      0  \n",
       "3            0      0         0     0     0     0     0        0      0      0  \n",
       "4            0      0         0     0     0     0     0        0      0      1  \n",
       "5            0      0         0     0     0     0     1        0      0      0  \n",
       "6            0      0         0     0     0     0     0        0      0      0  \n",
       "7            0      0         0     0     0     0     0        0      0      0  \n",
       "8            0      0         0     0     0     0     1        0      0      0  \n",
       "9            0      0         0     0     0     0     0        0      0      0  \n",
       "10           0      0         0     1     0     0     1        0      1      0  \n",
       "11           0      0         0     0     0     0     0        0      0      0  \n",
       "12           0      0         0     0     0     1     0        0      0      0  \n",
       "13           0      0         0     0     0     0     0        0      0      0  \n",
       "14           1      0         0     0     0     0     1        0      0      0  \n",
       "15           0      0         0     0     1     0     0        1      0      0  \n",
       "16           0      0         0     0     0     0     0        0      0      0  \n",
       "17           0      0         0     0     0     0     0        0      0      0  \n",
       "18           0      0         0     0     0     0     0        0      0      0  \n",
       "19           0      0         0     0     0     0     0        0      0      0  \n",
       "20           0      0         0     0     0     0     0        0      0      0  \n",
       "\n",
       "[21 rows x 279 columns]"
      ]
     },
     "execution_count": 54,
     "metadata": {},
     "output_type": "execute_result"
    }
   ],
   "source": [
    "from sklearn.feature_extraction.text import CountVectorizer\n",
    "vect = CountVectorizer()\n",
    "paragraph_matrix = vect.fit_transform(sentences)\n",
    "tf = pd.DataFrame(paragraph_matrix.toarray(), columns=vect.get_feature_names())\n",
    "tf"
   ]
  },
  {
   "cell_type": "markdown",
   "metadata": {
    "collapsed": true
   },
   "source": [
    "This is a sparse matrix: only few values are non null (!=0). The rows are the 21 sentences forming the paragraph. The columns are the 279 words forming the paragraph> The matrix gives us the frequency of each word. We can covert it to array form in a way to ignore all the zeros: "
   ]
  },
  {
   "cell_type": "code",
   "execution_count": 55,
   "metadata": {
    "collapsed": false
   },
   "outputs": [
    {
     "name": "stdout",
     "output_type": "stream",
     "text": [
      "  (0, 242)\t1\n",
      "  (0, 45)\t1\n",
      "  (0, 222)\t1\n",
      "  (0, 232)\t1\n",
      "  (0, 112)\t1\n",
      "  (0, 132)\t1\n",
      "  (0, 255)\t1\n",
      "  (0, 70)\t1\n",
      "  (0, 198)\t1\n",
      "  (0, 223)\t1\n",
      "  (0, 134)\t1\n",
      "  (0, 234)\t1\n",
      "  (0, 17)\t2\n",
      "  (0, 208)\t1\n",
      "  (0, 23)\t1\n",
      "  (0, 91)\t1\n",
      "  (0, 140)\t1\n",
      "  (0, 157)\t1\n",
      "  (0, 59)\t1\n",
      "  (0, 130)\t1\n",
      "  (0, 128)\t1\n",
      "  (0, 46)\t1\n",
      "  (0, 271)\t1\n",
      "  (0, 88)\t1\n",
      "  (0, 11)\t1\n",
      "  :\t:\n",
      "  (19, 22)\t1\n",
      "  (19, 3)\t1\n",
      "  (20, 242)\t2\n",
      "  (20, 157)\t1\n",
      "  (20, 253)\t1\n",
      "  (20, 220)\t2\n",
      "  (20, 39)\t1\n",
      "  (20, 16)\t1\n",
      "  (20, 102)\t1\n",
      "  (20, 261)\t1\n",
      "  (20, 6)\t1\n",
      "  (20, 151)\t1\n",
      "  (20, 225)\t1\n",
      "  (20, 64)\t1\n",
      "  (20, 42)\t1\n",
      "  (20, 7)\t1\n",
      "  (20, 84)\t1\n",
      "  (20, 98)\t1\n",
      "  (20, 20)\t1\n",
      "  (20, 30)\t1\n",
      "  (20, 81)\t1\n",
      "  (20, 148)\t1\n",
      "  (20, 125)\t1\n",
      "  (20, 4)\t1\n",
      "  (20, 193)\t1\n"
     ]
    }
   ],
   "source": [
    "print(paragraph_matrix)"
   ]
  },
  {
   "cell_type": "code",
   "execution_count": 65,
   "metadata": {
    "collapsed": false
   },
   "outputs": [
    {
     "data": {
      "text/plain": [
       "<matplotlib.axes._subplots.AxesSubplot at 0x599cef0>"
      ]
     },
     "execution_count": 65,
     "metadata": {},
     "output_type": "execute_result"
    },
    {
     "data": {
      "image/png": "[encoded data removed]",
      "text/plain": [
       "<matplotlib.figure.Figure at 0xc7da890>"
      ]
     },
     "metadata": {},
     "output_type": "display_data"
    }
   ],
   "source": [
    "tf.sum(axis=1).sort_values(ascending=False).head(20)[::-1].plot.barh(color=\"blue\")"
   ]
  },
  {
   "cell_type": "markdown",
   "metadata": {},
   "source": [
    "Think about how we can use such statistical results for example to cluster all articles that are most likely to be on the same subject together. "
   ]
  },
  {
   "cell_type": "code",
   "execution_count": 82,
   "metadata": {
    "collapsed": false
   },
   "outputs": [],
   "source": [
    "from sklearn.metrics.pairwise import cosine_similarity"
   ]
  },
  {
   "cell_type": "code",
   "execution_count": 91,
   "metadata": {
    "collapsed": false
   },
   "outputs": [
    {
     "data": {
      "text/html": [
       "<div>\n",
       "<table border=\"1\" class=\"dataframe\">\n",
       "  <thead>\n",
       "    <tr style=\"text-align: right;\">\n",
       "      <th></th>\n",
       "      <th>17</th>\n",
       "      <th>1988</th>\n",
       "      <th>25</th>\n",
       "      <th>30</th>\n",
       "      <th>301</th>\n",
       "      <th>about</th>\n",
       "      <th>accelerated</th>\n",
       "      <th>act</th>\n",
       "      <th>agreement</th>\n",
       "      <th>aid</th>\n",
       "      <th>...</th>\n",
       "      <th>washington</th>\n",
       "      <th>watch</th>\n",
       "      <th>watching</th>\n",
       "      <th>well</th>\n",
       "      <th>what</th>\n",
       "      <th>will</th>\n",
       "      <th>with</th>\n",
       "      <th>working</th>\n",
       "      <th>works</th>\n",
       "      <th>world</th>\n",
       "    </tr>\n",
       "  </thead>\n",
       "  <tbody>\n",
       "    <tr>\n",
       "      <th>17</th>\n",
       "      <td>1.0</td>\n",
       "      <td>0.000000</td>\n",
       "      <td>0.0</td>\n",
       "      <td>0.000000</td>\n",
       "      <td>0.000000</td>\n",
       "      <td>0.0</td>\n",
       "      <td>0.000000</td>\n",
       "      <td>0.000000</td>\n",
       "      <td>0.0</td>\n",
       "      <td>0.0</td>\n",
       "      <td>...</td>\n",
       "      <td>0.0</td>\n",
       "      <td>0.0</td>\n",
       "      <td>0.0</td>\n",
       "      <td>0.0</td>\n",
       "      <td>0.0</td>\n",
       "      <td>0.707107</td>\n",
       "      <td>0.0</td>\n",
       "      <td>0.0</td>\n",
       "      <td>0.0</td>\n",
       "      <td>0.0</td>\n",
       "    </tr>\n",
       "    <tr>\n",
       "      <th>1988</th>\n",
       "      <td>0.0</td>\n",
       "      <td>1.000000</td>\n",
       "      <td>0.0</td>\n",
       "      <td>1.000000</td>\n",
       "      <td>0.000000</td>\n",
       "      <td>0.0</td>\n",
       "      <td>0.000000</td>\n",
       "      <td>0.707107</td>\n",
       "      <td>0.0</td>\n",
       "      <td>0.0</td>\n",
       "      <td>...</td>\n",
       "      <td>0.0</td>\n",
       "      <td>0.0</td>\n",
       "      <td>0.0</td>\n",
       "      <td>0.0</td>\n",
       "      <td>0.0</td>\n",
       "      <td>0.000000</td>\n",
       "      <td>0.0</td>\n",
       "      <td>0.0</td>\n",
       "      <td>0.0</td>\n",
       "      <td>0.0</td>\n",
       "    </tr>\n",
       "    <tr>\n",
       "      <th>25</th>\n",
       "      <td>0.0</td>\n",
       "      <td>0.000000</td>\n",
       "      <td>1.0</td>\n",
       "      <td>0.000000</td>\n",
       "      <td>0.000000</td>\n",
       "      <td>0.0</td>\n",
       "      <td>0.000000</td>\n",
       "      <td>0.000000</td>\n",
       "      <td>0.0</td>\n",
       "      <td>0.0</td>\n",
       "      <td>...</td>\n",
       "      <td>0.0</td>\n",
       "      <td>0.0</td>\n",
       "      <td>0.0</td>\n",
       "      <td>0.0</td>\n",
       "      <td>0.0</td>\n",
       "      <td>0.000000</td>\n",
       "      <td>0.0</td>\n",
       "      <td>0.0</td>\n",
       "      <td>0.0</td>\n",
       "      <td>0.0</td>\n",
       "    </tr>\n",
       "    <tr>\n",
       "      <th>30</th>\n",
       "      <td>0.0</td>\n",
       "      <td>1.000000</td>\n",
       "      <td>0.0</td>\n",
       "      <td>1.000000</td>\n",
       "      <td>0.000000</td>\n",
       "      <td>0.0</td>\n",
       "      <td>0.000000</td>\n",
       "      <td>0.707107</td>\n",
       "      <td>0.0</td>\n",
       "      <td>0.0</td>\n",
       "      <td>...</td>\n",
       "      <td>0.0</td>\n",
       "      <td>0.0</td>\n",
       "      <td>0.0</td>\n",
       "      <td>0.0</td>\n",
       "      <td>0.0</td>\n",
       "      <td>0.000000</td>\n",
       "      <td>0.0</td>\n",
       "      <td>0.0</td>\n",
       "      <td>0.0</td>\n",
       "      <td>0.0</td>\n",
       "    </tr>\n",
       "    <tr>\n",
       "      <th>301</th>\n",
       "      <td>0.0</td>\n",
       "      <td>0.000000</td>\n",
       "      <td>0.0</td>\n",
       "      <td>0.000000</td>\n",
       "      <td>1.000000</td>\n",
       "      <td>0.0</td>\n",
       "      <td>0.707107</td>\n",
       "      <td>0.707107</td>\n",
       "      <td>0.0</td>\n",
       "      <td>0.0</td>\n",
       "      <td>...</td>\n",
       "      <td>0.0</td>\n",
       "      <td>0.0</td>\n",
       "      <td>0.0</td>\n",
       "      <td>0.0</td>\n",
       "      <td>0.0</td>\n",
       "      <td>0.000000</td>\n",
       "      <td>0.0</td>\n",
       "      <td>0.0</td>\n",
       "      <td>0.0</td>\n",
       "      <td>0.0</td>\n",
       "    </tr>\n",
       "    <tr>\n",
       "      <th>about</th>\n",
       "      <td>0.0</td>\n",
       "      <td>0.000000</td>\n",
       "      <td>0.0</td>\n",
       "      <td>0.000000</td>\n",
       "      <td>0.000000</td>\n",
       "      <td>1.0</td>\n",
       "      <td>0.000000</td>\n",
       "      <td>0.000000</td>\n",
       "      <td>0.0</td>\n",
       "      <td>0.0</td>\n",
       "      <td>...</td>\n",
       "      <td>0.0</td>\n",
       "      <td>0.0</td>\n",
       "      <td>0.0</td>\n",
       "      <td>0.0</td>\n",
       "      <td>0.0</td>\n",
       "      <td>0.000000</td>\n",
       "      <td>0.0</td>\n",
       "      <td>0.0</td>\n",
       "      <td>0.0</td>\n",
       "      <td>0.0</td>\n",
       "    </tr>\n",
       "    <tr>\n",
       "      <th>accelerated</th>\n",
       "      <td>0.0</td>\n",
       "      <td>0.000000</td>\n",
       "      <td>0.0</td>\n",
       "      <td>0.000000</td>\n",
       "      <td>0.707107</td>\n",
       "      <td>0.0</td>\n",
       "      <td>1.000000</td>\n",
       "      <td>0.500000</td>\n",
       "      <td>0.0</td>\n",
       "      <td>0.0</td>\n",
       "      <td>...</td>\n",
       "      <td>0.0</td>\n",
       "      <td>0.0</td>\n",
       "      <td>0.0</td>\n",
       "      <td>0.0</td>\n",
       "      <td>0.0</td>\n",
       "      <td>0.000000</td>\n",
       "      <td>0.0</td>\n",
       "      <td>0.0</td>\n",
       "      <td>0.0</td>\n",
       "      <td>0.0</td>\n",
       "    </tr>\n",
       "    <tr>\n",
       "      <th>act</th>\n",
       "      <td>0.0</td>\n",
       "      <td>0.707107</td>\n",
       "      <td>0.0</td>\n",
       "      <td>0.707107</td>\n",
       "      <td>0.707107</td>\n",
       "      <td>0.0</td>\n",
       "      <td>0.500000</td>\n",
       "      <td>1.000000</td>\n",
       "      <td>0.0</td>\n",
       "      <td>0.0</td>\n",
       "      <td>...</td>\n",
       "      <td>0.0</td>\n",
       "      <td>0.0</td>\n",
       "      <td>0.0</td>\n",
       "      <td>0.0</td>\n",
       "      <td>0.0</td>\n",
       "      <td>0.000000</td>\n",
       "      <td>0.0</td>\n",
       "      <td>0.0</td>\n",
       "      <td>0.0</td>\n",
       "      <td>0.0</td>\n",
       "    </tr>\n",
       "    <tr>\n",
       "      <th>agreement</th>\n",
       "      <td>0.0</td>\n",
       "      <td>0.000000</td>\n",
       "      <td>0.0</td>\n",
       "      <td>0.000000</td>\n",
       "      <td>0.000000</td>\n",
       "      <td>0.0</td>\n",
       "      <td>0.000000</td>\n",
       "      <td>0.000000</td>\n",
       "      <td>1.0</td>\n",
       "      <td>0.0</td>\n",
       "      <td>...</td>\n",
       "      <td>0.0</td>\n",
       "      <td>0.0</td>\n",
       "      <td>0.0</td>\n",
       "      <td>0.0</td>\n",
       "      <td>0.0</td>\n",
       "      <td>0.000000</td>\n",
       "      <td>0.5</td>\n",
       "      <td>0.0</td>\n",
       "      <td>0.0</td>\n",
       "      <td>0.0</td>\n",
       "    </tr>\n",
       "    <tr>\n",
       "      <th>aid</th>\n",
       "      <td>0.0</td>\n",
       "      <td>0.000000</td>\n",
       "      <td>0.0</td>\n",
       "      <td>0.000000</td>\n",
       "      <td>0.000000</td>\n",
       "      <td>0.0</td>\n",
       "      <td>0.000000</td>\n",
       "      <td>0.000000</td>\n",
       "      <td>0.0</td>\n",
       "      <td>1.0</td>\n",
       "      <td>...</td>\n",
       "      <td>0.0</td>\n",
       "      <td>0.0</td>\n",
       "      <td>0.0</td>\n",
       "      <td>0.0</td>\n",
       "      <td>0.0</td>\n",
       "      <td>0.000000</td>\n",
       "      <td>0.0</td>\n",
       "      <td>0.0</td>\n",
       "      <td>0.0</td>\n",
       "      <td>0.0</td>\n",
       "    </tr>\n",
       "    <tr>\n",
       "      <th>all</th>\n",
       "      <td>0.0</td>\n",
       "      <td>0.000000</td>\n",
       "      <td>0.0</td>\n",
       "      <td>0.000000</td>\n",
       "      <td>0.000000</td>\n",
       "      <td>0.0</td>\n",
       "      <td>0.000000</td>\n",
       "      <td>0.000000</td>\n",
       "      <td>0.0</td>\n",
       "      <td>0.0</td>\n",
       "      <td>...</td>\n",
       "      <td>0.0</td>\n",
       "      <td>0.0</td>\n",
       "      <td>0.0</td>\n",
       "      <td>0.0</td>\n",
       "      <td>0.0</td>\n",
       "      <td>0.000000</td>\n",
       "      <td>0.0</td>\n",
       "      <td>0.0</td>\n",
       "      <td>0.0</td>\n",
       "      <td>1.0</td>\n",
       "    </tr>\n",
       "    <tr>\n",
       "      <th>allegedly</th>\n",
       "      <td>0.0</td>\n",
       "      <td>0.000000</td>\n",
       "      <td>0.0</td>\n",
       "      <td>0.000000</td>\n",
       "      <td>0.000000</td>\n",
       "      <td>0.0</td>\n",
       "      <td>0.000000</td>\n",
       "      <td>0.000000</td>\n",
       "      <td>0.0</td>\n",
       "      <td>0.0</td>\n",
       "      <td>...</td>\n",
       "      <td>0.0</td>\n",
       "      <td>0.0</td>\n",
       "      <td>1.0</td>\n",
       "      <td>0.0</td>\n",
       "      <td>0.0</td>\n",
       "      <td>0.000000</td>\n",
       "      <td>0.0</td>\n",
       "      <td>0.0</td>\n",
       "      <td>0.0</td>\n",
       "      <td>0.0</td>\n",
       "    </tr>\n",
       "    <tr>\n",
       "      <th>also</th>\n",
       "      <td>0.0</td>\n",
       "      <td>0.000000</td>\n",
       "      <td>0.0</td>\n",
       "      <td>0.000000</td>\n",
       "      <td>0.000000</td>\n",
       "      <td>0.0</td>\n",
       "      <td>0.000000</td>\n",
       "      <td>0.000000</td>\n",
       "      <td>0.0</td>\n",
       "      <td>1.0</td>\n",
       "      <td>...</td>\n",
       "      <td>0.0</td>\n",
       "      <td>0.0</td>\n",
       "      <td>0.0</td>\n",
       "      <td>0.0</td>\n",
       "      <td>0.0</td>\n",
       "      <td>0.000000</td>\n",
       "      <td>0.0</td>\n",
       "      <td>0.0</td>\n",
       "      <td>0.0</td>\n",
       "      <td>0.0</td>\n",
       "    </tr>\n",
       "    <tr>\n",
       "      <th>although</th>\n",
       "      <td>0.0</td>\n",
       "      <td>0.000000</td>\n",
       "      <td>0.0</td>\n",
       "      <td>0.000000</td>\n",
       "      <td>0.000000</td>\n",
       "      <td>0.0</td>\n",
       "      <td>0.000000</td>\n",
       "      <td>0.000000</td>\n",
       "      <td>0.0</td>\n",
       "      <td>0.0</td>\n",
       "      <td>...</td>\n",
       "      <td>0.0</td>\n",
       "      <td>0.0</td>\n",
       "      <td>0.0</td>\n",
       "      <td>0.0</td>\n",
       "      <td>0.0</td>\n",
       "      <td>0.000000</td>\n",
       "      <td>0.0</td>\n",
       "      <td>0.0</td>\n",
       "      <td>0.0</td>\n",
       "      <td>0.0</td>\n",
       "    </tr>\n",
       "    <tr>\n",
       "      <th>amending</th>\n",
       "      <td>0.0</td>\n",
       "      <td>0.000000</td>\n",
       "      <td>0.0</td>\n",
       "      <td>0.000000</td>\n",
       "      <td>0.000000</td>\n",
       "      <td>0.0</td>\n",
       "      <td>0.000000</td>\n",
       "      <td>0.000000</td>\n",
       "      <td>1.0</td>\n",
       "      <td>0.0</td>\n",
       "      <td>...</td>\n",
       "      <td>0.0</td>\n",
       "      <td>0.0</td>\n",
       "      <td>0.0</td>\n",
       "      <td>0.0</td>\n",
       "      <td>0.0</td>\n",
       "      <td>0.000000</td>\n",
       "      <td>0.5</td>\n",
       "      <td>0.0</td>\n",
       "      <td>0.0</td>\n",
       "      <td>0.0</td>\n",
       "    </tr>\n",
       "  </tbody>\n",
       "</table>\n",
       "<p>15 rows × 279 columns</p>\n",
       "</div>"
      ],
      "text/plain": [
       "              17      1988   25        30       301  about  accelerated  \\\n",
       "17           1.0  0.000000  0.0  0.000000  0.000000    0.0     0.000000   \n",
       "1988         0.0  1.000000  0.0  1.000000  0.000000    0.0     0.000000   \n",
       "25           0.0  0.000000  1.0  0.000000  0.000000    0.0     0.000000   \n",
       "30           0.0  1.000000  0.0  1.000000  0.000000    0.0     0.000000   \n",
       "301          0.0  0.000000  0.0  0.000000  1.000000    0.0     0.707107   \n",
       "about        0.0  0.000000  0.0  0.000000  0.000000    1.0     0.000000   \n",
       "accelerated  0.0  0.000000  0.0  0.000000  0.707107    0.0     1.000000   \n",
       "act          0.0  0.707107  0.0  0.707107  0.707107    0.0     0.500000   \n",
       "agreement    0.0  0.000000  0.0  0.000000  0.000000    0.0     0.000000   \n",
       "aid          0.0  0.000000  0.0  0.000000  0.000000    0.0     0.000000   \n",
       "all          0.0  0.000000  0.0  0.000000  0.000000    0.0     0.000000   \n",
       "allegedly    0.0  0.000000  0.0  0.000000  0.000000    0.0     0.000000   \n",
       "also         0.0  0.000000  0.0  0.000000  0.000000    0.0     0.000000   \n",
       "although     0.0  0.000000  0.0  0.000000  0.000000    0.0     0.000000   \n",
       "amending     0.0  0.000000  0.0  0.000000  0.000000    0.0     0.000000   \n",
       "\n",
       "                  act  agreement  aid  ...    washington  watch  watching  \\\n",
       "17           0.000000        0.0  0.0  ...           0.0    0.0       0.0   \n",
       "1988         0.707107        0.0  0.0  ...           0.0    0.0       0.0   \n",
       "25           0.000000        0.0  0.0  ...           0.0    0.0       0.0   \n",
       "30           0.707107        0.0  0.0  ...           0.0    0.0       0.0   \n",
       "301          0.707107        0.0  0.0  ...           0.0    0.0       0.0   \n",
       "about        0.000000        0.0  0.0  ...           0.0    0.0       0.0   \n",
       "accelerated  0.500000        0.0  0.0  ...           0.0    0.0       0.0   \n",
       "act          1.000000        0.0  0.0  ...           0.0    0.0       0.0   \n",
       "agreement    0.000000        1.0  0.0  ...           0.0    0.0       0.0   \n",
       "aid          0.000000        0.0  1.0  ...           0.0    0.0       0.0   \n",
       "all          0.000000        0.0  0.0  ...           0.0    0.0       0.0   \n",
       "allegedly    0.000000        0.0  0.0  ...           0.0    0.0       1.0   \n",
       "also         0.000000        0.0  1.0  ...           0.0    0.0       0.0   \n",
       "although     0.000000        0.0  0.0  ...           0.0    0.0       0.0   \n",
       "amending     0.000000        1.0  0.0  ...           0.0    0.0       0.0   \n",
       "\n",
       "             well  what      will  with  working  works  world  \n",
       "17            0.0   0.0  0.707107   0.0      0.0    0.0    0.0  \n",
       "1988          0.0   0.0  0.000000   0.0      0.0    0.0    0.0  \n",
       "25            0.0   0.0  0.000000   0.0      0.0    0.0    0.0  \n",
       "30            0.0   0.0  0.000000   0.0      0.0    0.0    0.0  \n",
       "301           0.0   0.0  0.000000   0.0      0.0    0.0    0.0  \n",
       "about         0.0   0.0  0.000000   0.0      0.0    0.0    0.0  \n",
       "accelerated   0.0   0.0  0.000000   0.0      0.0    0.0    0.0  \n",
       "act           0.0   0.0  0.000000   0.0      0.0    0.0    0.0  \n",
       "agreement     0.0   0.0  0.000000   0.5      0.0    0.0    0.0  \n",
       "aid           0.0   0.0  0.000000   0.0      0.0    0.0    0.0  \n",
       "all           0.0   0.0  0.000000   0.0      0.0    0.0    1.0  \n",
       "allegedly     0.0   0.0  0.000000   0.0      0.0    0.0    0.0  \n",
       "also          0.0   0.0  0.000000   0.0      0.0    0.0    0.0  \n",
       "although      0.0   0.0  0.000000   0.0      0.0    0.0    0.0  \n",
       "amending      0.0   0.0  0.000000   0.5      0.0    0.0    0.0  \n",
       "\n",
       "[15 rows x 279 columns]"
      ]
     },
     "execution_count": 91,
     "metadata": {},
     "output_type": "execute_result"
    }
   ],
   "source": [
    "cos_sim = pd.DataFrame(cosine_similarity(tf.T),\n",
    "                       index=tf.columns,\n",
    "                       columns=tf.columns)\n",
    "cos_sim.head(15)"
   ]
  },
  {
   "cell_type": "code",
   "execution_count": 92,
   "metadata": {
    "collapsed": false
   },
   "outputs": [
    {
     "data": {
      "text/plain": [
       "['country', 'own', 'world', 'creativity', 'threat']"
      ]
     },
     "execution_count": 92,
     "metadata": {},
     "output_type": "execute_result"
    }
   ],
   "source": [
    "def get_similar_words(word, cos_sim):\n",
    "    cos_sim_word = cos_sim[word].sort_values(\n",
    "        ascending=False).drop(word).head(5).index\n",
    "    return list(cos_sim_word)\n",
    "\n",
    "get_similar_words('growing', cos_sim)"
   ]
  },
  {
   "cell_type": "markdown",
   "metadata": {},
   "source": [
    "These are the words that are appear with the word \"growing\" in the same sentence."
   ]
  },
  {
   "cell_type": "code",
   "execution_count": 102,
   "metadata": {
    "collapsed": false
   },
   "outputs": [
    {
     "data": {
      "text/plain": [
       "(21, 476)"
      ]
     },
     "execution_count": 102,
     "metadata": {},
     "output_type": "execute_result"
    }
   ],
   "source": [
    "cv = CountVectorizer(ngram_range=(3,3))\n",
    "sparse_matrix = cv.fit_transform(sentences)\n",
    "numpy_matrix = sparse_matrix.toarray()\n",
    "df_dtm = pd.DataFrame(numpy_matrix, columns=cv.get_feature_names())\n",
    "df_dtm.shape"
   ]
  },
  {
   "cell_type": "code",
   "execution_count": 103,
   "metadata": {
    "collapsed": false
   },
   "outputs": [
    {
     "data": {
      "text/plain": [
       "<matplotlib.axes._subplots.AxesSubplot at 0x9c7e210>"
      ]
     },
     "execution_count": 103,
     "metadata": {},
     "output_type": "execute_result"
    },
    {
     "data": {
      "image/png": "[encoded data removed]",
      "text/plain": [
       "<matplotlib.figure.Figure at 0xe24e1f0>"
      ]
     },
     "metadata": {},
     "output_type": "display_data"
    }
   ],
   "source": [
    "df_dtm.sum().sort_values(ascending=False).head(20)[::-1].plot.barh(color='steelblue')"
   ]
  },
  {
   "cell_type": "code",
   "execution_count": null,
   "metadata": {
    "collapsed": true
   },
   "outputs": [],
   "source": []
  }
 ],
 "metadata": {
  "kernelspec": {
   "display_name": "Python [conda env:Anaconda3]",
   "language": "python",
   "name": "conda-env-Anaconda3-py"
  },
  "language_info": {
   "codemirror_mode": {
    "name": "ipython",
    "version": 3
   },
   "file_extension": ".py",
   "mimetype": "text/x-python",
   "name": "python",
   "nbconvert_exporter": "python",
   "pygments_lexer": "ipython3",
   "version": "3.5.2"
  }
 },
 "nbformat": 4,
 "nbformat_minor": 1
}
